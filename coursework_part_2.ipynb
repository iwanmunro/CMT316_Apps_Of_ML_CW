{
 "cells": [
  {
   "cell_type": "code",
   "execution_count": 1,
   "metadata": {},
   "outputs": [],
   "source": [
    "import numpy as np\n",
    "import nltk\n",
    "import sklearn\n",
    "import os\n",
    "import operator"
   ]
  },
  {
   "cell_type": "code",
   "execution_count": 2,
   "metadata": {},
   "outputs": [
    {
     "name": "stderr",
     "output_type": "stream",
     "text": [
      "[nltk_data] Downloading package averaged_perceptron_tagger to\n",
      "[nltk_data]     C:\\Users\\Iwan_Munro\\AppData\\Roaming\\nltk_data...\n",
      "[nltk_data]   Package averaged_perceptron_tagger is already up-to-\n",
      "[nltk_data]       date!\n",
      "[nltk_data] Downloading package universal_tagset to\n",
      "[nltk_data]     C:\\Users\\Iwan_Munro\\AppData\\Roaming\\nltk_data...\n",
      "[nltk_data]   Package universal_tagset is already up-to-date!\n"
     ]
    },
    {
     "data": {
      "text/plain": [
       "True"
      ]
     },
     "execution_count": 2,
     "metadata": {},
     "output_type": "execute_result"
    }
   ],
   "source": [
    "nltk.download('averaged_perceptron_tagger')\n",
    "nltk.download('universal_tagset')"
   ]
  },
  {
   "cell_type": "code",
   "execution_count": 3,
   "metadata": {},
   "outputs": [],
   "source": [
    "from collections import Counter\n",
    "def count_verbs(file):\n",
    "    text = nltk.tokenize.word_tokenize(file)\n",
    "    tagged_toks = nltk.pos_tag(text, tagset='universal')\n",
    "    all_counts = Counter(tag for token, tag in tagged_toks)\n",
    "\n",
    "    return all_counts['VERB']"
   ]
  },
  {
   "cell_type": "code",
   "execution_count": 4,
   "metadata": {},
   "outputs": [],
   "source": [
    "# Y Labels\n",
    "# 0 - Sport\n",
    "# 1 - Business\n",
    "# 2 - Entertainment\n",
    "# 3 - Politics\n",
    "# 4 - Technology\n",
    "\n",
    "articles_verbs_label = []\n",
    "\n",
    "subjects = ['sport', 'business', 'entertainment', 'politics', 'tech']\n",
    "for i in subjects:\n",
    "    for file in os.listdir(\"datasets_coursework1\\\\bbc\\\\\" + i):\n",
    "        if file.endswith(\".txt\"):\n",
    "            file_path = \"datasets_coursework1\\\\bbc\\\\\" + i + \"\\\\\" + file\n",
    "            f = open(file_path, \"r\")\n",
    "            file = f.read()\n",
    "            verbs = count_verbs(file)\n",
    "            arr = [file, verbs]\n",
    "            if i == 'sport':\n",
    "                arr.append(0)\n",
    "                articles_verbs_label.append(arr)\n",
    "            elif i == 'business':\n",
    "                arr.append(1)\n",
    "                articles_verbs_label.append(arr)\n",
    "            elif i == 'entertainment':\n",
    "                arr.append(2)\n",
    "                articles_verbs_label.append(arr)\n",
    "            elif i == 'politics':\n",
    "                arr.append(3)\n",
    "                articles_verbs_label.append(arr)\n",
    "            elif i == 'tech':\n",
    "                arr.append(4)\n",
    "                articles_verbs_label.append(arr)\n",
    "        else: continue"
   ]
  },
  {
   "cell_type": "code",
   "execution_count": 5,
   "metadata": {},
   "outputs": [],
   "source": [
    "lemmatizer = nltk.stem.WordNetLemmatizer()\n",
    "\n",
    "def get_list_tokens(article):\n",
    "    list_tokens=[]\n",
    "    list_tokens_sentence=nltk.tokenize.word_tokenize(article)\n",
    "    for token in list_tokens_sentence:\n",
    "        list_tokens.append(lemmatizer.lemmatize(token).lower())\n",
    "\n",
    "    return list_tokens"
   ]
  },
  {
   "cell_type": "code",
   "execution_count": 6,
   "metadata": {},
   "outputs": [],
   "source": [
    "def dict_creation(ind_story, dict_words):\n",
    "    stopwords=nltk.corpus.stopwords.words('english')\n",
    "    stopwords.extend([\".\",\",\",\"'\",\"''\",\"``\",\"%\",\"-\",\"(\",\")\",\":\"])\n",
    "    \n",
    "    sentence_tokens=get_list_tokens(ind_story)\n",
    "    for word in sentence_tokens:\n",
    "        if word in stopwords: continue\n",
    "        if word not in dict_words: dict_words[word]=1\n",
    "        else: dict_words[word]+=1\n",
    "\n",
    "    return dict_words"
   ]
  },
  {
   "cell_type": "code",
   "execution_count": 7,
   "metadata": {},
   "outputs": [],
   "source": [
    "from sklearn.feature_extraction.text import CountVectorizer\n",
    "vectorizer = CountVectorizer(analyzer='word', ngram_range=(2, 2), stop_words={'english'}, max_features=10000)\n",
    "n_gram_vectorised = vectorizer.fit([element[0] for element in articles_verbs_label])"
   ]
  },
  {
   "cell_type": "code",
   "execution_count": 8,
   "metadata": {
    "scrolled": true
   },
   "outputs": [],
   "source": [
    "dict_word_frequency = {}\n",
    "for entry in articles_verbs_label:\n",
    "    dict_word_frequency = dict_creation(entry[0], dict_word_frequency)\n",
    "\n",
    "# Now we create a sorted frequency list with the top 1000 words, using the function \"sorted\"\n",
    "sorted_list = sorted(dict_word_frequency.items(), key=operator.itemgetter(1), reverse=True)[:1000]\n",
    "  \n",
    "# Create a vocabulary based on the sorted frequency list \n",
    "vocabulary=[]\n",
    "for word,frequency in sorted_list:\n",
    "  vocabulary.append(word)"
   ]
  },
  {
   "cell_type": "code",
   "execution_count": 9,
   "metadata": {},
   "outputs": [],
   "source": [
    "def get_vector_text(list_vocab,string):\n",
    "    vector_text=np.zeros(len(list_vocab))\n",
    "    list_tokens_string=get_list_tokens(string)\n",
    "\n",
    "    for i, word in enumerate(list_vocab):\n",
    "        if word in list_tokens_string:\n",
    "            vector_text[i]=list_tokens_string.count(word)\n",
    "\n",
    "    return vector_text"
   ]
  },
  {
   "cell_type": "code",
   "execution_count": 10,
   "metadata": {},
   "outputs": [],
   "source": [
    "X=[]\n",
    "Y=[]\n",
    "\n",
    "for entry in articles_verbs_label:\n",
    "    sub_story=get_vector_text(vocabulary,entry[0])\n",
    "    var = np.concatenate((n_gram_vectorised.transform([entry[0]]).toarray()[0], np.append(sub_story, entry[-2])))\n",
    "    X.append(var)\n",
    "    Y.append(entry[-1])"
   ]
  },
  {
   "cell_type": "code",
   "execution_count": 95,
   "metadata": {},
   "outputs": [],
   "source": [
    "from sklearn.feature_selection import SelectKBest, chi2\n",
    "X_new = SelectKBest(chi2, k=2500).fit_transform(X,Y)"
   ]
  },
  {
   "cell_type": "code",
   "execution_count": 96,
   "metadata": {},
   "outputs": [
    {
     "data": {
      "text/plain": [
       "(2225, 500)"
      ]
     },
     "execution_count": 96,
     "metadata": {},
     "output_type": "execute_result"
    }
   ],
   "source": [
    "from sklearn import cluster\n",
    "agglo = cluster.FeatureAgglomeration(n_clusters=500)\n",
    "agglo.fit(X_new)\n",
    "X_reduced = agglo.transform(X_new)\n",
    "X_reduced.shape"
   ]
  },
  {
   "cell_type": "code",
   "execution_count": 97,
   "metadata": {},
   "outputs": [],
   "source": [
    "from sklearn.model_selection import train_test_split\n",
    "X_train, X1_test, Y_train, Y1_test = train_test_split(X_reduced, Y, test_size=0.3, random_state=42)\n",
    "X_dev, X_test, Y_dev, Y_test = train_test_split(X1_test, Y1_test, test_size=0.5, random_state=32)"
   ]
  },
  {
   "cell_type": "code",
   "execution_count": 98,
   "metadata": {},
   "outputs": [
    {
     "data": {
      "text/plain": [
       "SVC(gamma='auto', kernel='linear')"
      ]
     },
     "execution_count": 98,
     "metadata": {},
     "output_type": "execute_result"
    }
   ],
   "source": [
    "svm_clf_storytype=sklearn.svm.SVC(kernel=\"linear\",gamma='auto')\n",
    "svm_clf_storytype.fit(X_train,Y_train)"
   ]
  },
  {
   "cell_type": "code",
   "execution_count": 99,
   "metadata": {},
   "outputs": [],
   "source": [
    "Y_dev_pred = svm_clf_storytype.predict(X_dev)"
   ]
  },
  {
   "cell_type": "code",
   "execution_count": 100,
   "metadata": {},
   "outputs": [
    {
     "name": "stdout",
     "output_type": "stream",
     "text": [
      "The accuracy in the test set is: 95.21\n"
     ]
    }
   ],
   "source": [
    "from sklearn.metrics import accuracy_score\n",
    "accuracy_test = accuracy_score(Y_dev_pred,Y_dev)\n",
    "print('The accuracy in the test set is: '+str(round(accuracy_test*100,3)))"
   ]
  },
  {
   "cell_type": "code",
   "execution_count": 37,
   "metadata": {},
   "outputs": [],
   "source": [
    "Y_pred = svm_clf_storytype.predict(X_test)"
   ]
  },
  {
   "cell_type": "code",
   "execution_count": 38,
   "metadata": {
    "scrolled": true
   },
   "outputs": [
    {
     "name": "stdout",
     "output_type": "stream",
     "text": [
      "The accuracy in the test set is: 94.012\n"
     ]
    }
   ],
   "source": [
    "from sklearn.metrics import accuracy_score\n",
    "accuracy_test = accuracy_score(Y_pred,Y_test)\n",
    "print('The accuracy in the test set is: '+str(round(accuracy_test*100,3)))"
   ]
  },
  {
   "cell_type": "code",
   "execution_count": 39,
   "metadata": {},
   "outputs": [
    {
     "name": "stdout",
     "output_type": "stream",
     "text": [
      "              precision    recall  f1-score   support\n",
      "\n",
      "           0       0.99      0.95      0.97        87\n",
      "           1       0.93      0.92      0.92        87\n",
      "           2       0.90      0.93      0.91        46\n",
      "           3       0.88      0.90      0.89        49\n",
      "           4       0.97      0.98      0.98        65\n",
      "\n",
      "    accuracy                           0.94       334\n",
      "   macro avg       0.93      0.94      0.94       334\n",
      "weighted avg       0.94      0.94      0.94       334\n",
      "\n"
     ]
    }
   ],
   "source": [
    "print(sklearn.metrics.classification_report(Y_pred, Y_test))"
   ]
  },
  {
   "cell_type": "code",
   "execution_count": 40,
   "metadata": {},
   "outputs": [
    {
     "name": "stdout",
     "output_type": "stream",
     "text": [
      "[[83  2  0  2  0]\n",
      " [ 0 80  3  3  1]\n",
      " [ 1  0 43  1  1]\n",
      " [ 0  3  2 44  0]\n",
      " [ 0  1  0  0 64]]\n"
     ]
    }
   ],
   "source": [
    "print(sklearn.metrics.confusion_matrix(Y_pred, Y_test))"
   ]
  },
  {
   "cell_type": "code",
   "execution_count": null,
   "metadata": {},
   "outputs": [],
   "source": []
  }
 ],
 "metadata": {
  "kernelspec": {
   "display_name": "Python 3",
   "language": "python",
   "name": "python3"
  },
  "language_info": {
   "codemirror_mode": {
    "name": "ipython",
    "version": 3
   },
   "file_extension": ".py",
   "mimetype": "text/x-python",
   "name": "python",
   "nbconvert_exporter": "python",
   "pygments_lexer": "ipython3",
   "version": "3.8.3"
  }
 },
 "nbformat": 4,
 "nbformat_minor": 4
}
