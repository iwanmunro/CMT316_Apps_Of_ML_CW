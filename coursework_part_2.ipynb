{
 "cells": [
  {
   "cell_type": "code",
   "execution_count": 1,
   "metadata": {},
   "outputs": [],
   "source": [
    "import numpy as np\n",
    "import nltk\n",
    "import sklearn\n",
    "import os\n",
    "import operator"
   ]
  },
  {
   "cell_type": "code",
   "execution_count": 2,
   "metadata": {},
   "outputs": [
    {
     "name": "stderr",
     "output_type": "stream",
     "text": [
      "[nltk_data] Downloading package averaged_perceptron_tagger to\n",
      "[nltk_data]     C:\\Users\\Iwan_Munro\\AppData\\Roaming\\nltk_data...\n",
      "[nltk_data]   Package averaged_perceptron_tagger is already up-to-\n",
      "[nltk_data]       date!\n",
      "[nltk_data] Downloading package universal_tagset to\n",
      "[nltk_data]     C:\\Users\\Iwan_Munro\\AppData\\Roaming\\nltk_data...\n",
      "[nltk_data]   Package universal_tagset is already up-to-date!\n"
     ]
    },
    {
     "data": {
      "text/plain": [
       "True"
      ]
     },
     "execution_count": 2,
     "metadata": {},
     "output_type": "execute_result"
    }
   ],
   "source": [
    "nltk.download('averaged_perceptron_tagger')\n",
    "nltk.download('universal_tagset')"
   ]
  },
  {
   "cell_type": "code",
   "execution_count": 3,
   "metadata": {},
   "outputs": [],
   "source": [
    "from collections import Counter\n",
    "def count_verbs(file):\n",
    "    text = nltk.tokenize.word_tokenize(file)\n",
    "    tagged_toks = nltk.pos_tag(text, tagset='universal')\n",
    "    all_counts = Counter(tag for token, tag in tagged_toks)\n",
    "\n",
    "    return all_counts['VERB']"
   ]
  },
  {
   "cell_type": "code",
   "execution_count": 4,
   "metadata": {},
   "outputs": [],
   "source": [
    "df_sport = []\n",
    "df_bus = []\n",
    "df_enter = []\n",
    "df_pol = []\n",
    "df_tech = []\n",
    "\n",
    "subjects = ['sport', 'business', 'entertainment', 'politics', 'tech']\n",
    "for i in subjects:\n",
    "    for file in os.listdir(\"datasets_coursework1\\\\bbc\\\\\" + i):\n",
    "        if file.endswith(\".txt\"):\n",
    "            file_path = \"datasets_coursework1\\\\bbc\\\\\" + i + \"\\\\\" + file\n",
    "            f = open(file_path, \"r\")\n",
    "            file = f.read()\n",
    "            verbs = count_verbs(file)\n",
    "            list_of_sents = file.split(\"\\n\\n\")\n",
    "            list_of_sents.append(verbs)\n",
    "            if i == 'sport':\n",
    "                df_sport.append(list_of_sents)\n",
    "            elif i == 'business':\n",
    "                df_bus.append(list_of_sents)\n",
    "            elif i == 'entertainment':\n",
    "                df_enter.append(list_of_sents)\n",
    "            elif i == 'politics':\n",
    "                df_pol.append(list_of_sents)\n",
    "            elif i == 'tech':\n",
    "                df_tech.append(list_of_sents)\n",
    "        else: continue"
   ]
  },
  {
   "cell_type": "code",
   "execution_count": 5,
   "metadata": {},
   "outputs": [],
   "source": [
    "lemmatizer = nltk.stem.WordNetLemmatizer()\n",
    "\n",
    "def get_list_tokens(sentence_split):\n",
    "    list_tokens=[]\n",
    "    for sentence in sentence_split:\n",
    "        temp_tokens=[]\n",
    "        list_tokens_sentence=nltk.tokenize.word_tokenize(sentence)\n",
    "\n",
    "        for token in list_tokens_sentence:\n",
    "            list_tokens.append(lemmatizer.lemmatize(token).lower())\n",
    "\n",
    "    return list_tokens"
   ]
  },
  {
   "cell_type": "code",
   "execution_count": 6,
   "metadata": {},
   "outputs": [],
   "source": [
    "def dict_creation(ind_story, dict_words):\n",
    "    stopwords=nltk.corpus.stopwords.words('english')\n",
    "    stopwords.extend([\".\",\",\",\"'\",\"''\",\"``\",\"%\",\"-\",\"(\",\")\",\":\"])\n",
    "    \n",
    "    sentence_tokens=get_list_tokens(ind_story)\n",
    "    for word in sentence_tokens:\n",
    "        if word in stopwords: continue\n",
    "        if word not in dict_words: dict_words[word]=1\n",
    "        else: dict_words[word]+=1\n",
    "\n",
    "    return dict_words"
   ]
  },
  {
   "cell_type": "code",
   "execution_count": 7,
   "metadata": {},
   "outputs": [],
   "source": [
    "subjects = ['sport', 'business', 'entertainment', 'politics', 'tech']\n",
    "df_all = []\n",
    "for i in subjects:\n",
    "    for file in os.listdir(\"datasets_coursework1\\\\bbc\\\\\" + i):\n",
    "        if file.endswith(\".txt\"):\n",
    "            file_path = \"datasets_coursework1\\\\bbc\\\\\" + i + \"\\\\\" + file\n",
    "            f = open(file_path, \"r\")\n",
    "            file = f.read()\n",
    "            df_all.append(file)"
   ]
  },
  {
   "cell_type": "code",
   "execution_count": 8,
   "metadata": {},
   "outputs": [],
   "source": [
    "from sklearn.feature_extraction.text import CountVectorizer\n",
    "vectorizer = CountVectorizer(analyzer='word', ngram_range=(2, 2), stop_words={'english'}, max_features=10000)\n",
    "n_gram_vectorised = vectorizer.fit(df_all)"
   ]
  },
  {
   "cell_type": "code",
   "execution_count": 9,
   "metadata": {
    "scrolled": true
   },
   "outputs": [],
   "source": [
    "dict_word_frequency = {}\n",
    "for story in df_sport:\n",
    "    dict_word_frequency = dict_creation(story[:-1], dict_word_frequency)\n",
    "\n",
    "for story in df_bus:\n",
    "    dict_word_frequency = dict_creation(story[:-1], dict_word_frequency)\n",
    "        \n",
    "for story in df_enter:\n",
    "    dict_word_frequency = dict_creation(story[:-1], dict_word_frequency)\n",
    "        \n",
    "for story in df_pol:\n",
    "    dict_word_frequency = dict_creation(story[:-1], dict_word_frequency)\n",
    "        \n",
    "for story in df_tech:\n",
    "    dict_word_frequency = dict_creation(story[:-1], dict_word_frequency)\n",
    "\n",
    "# Now we create a sorted frequency list with the top 1000 words, using the function \"sorted\". Let's see the 15 most frequent words\n",
    "sorted_list = sorted(dict_word_frequency.items(), key=operator.itemgetter(1), reverse=True)[:1000]\n",
    "  \n",
    "# Finally, we create our vocabulary based on the sorted frequency list \n",
    "vocabulary=[]\n",
    "for word,frequency in sorted_list:\n",
    "  vocabulary.append(word)"
   ]
  },
  {
   "cell_type": "code",
   "execution_count": 10,
   "metadata": {},
   "outputs": [],
   "source": [
    "def get_vector_text(list_vocab,string):\n",
    "    vector_text=np.zeros(len(list_vocab))\n",
    "    list_tokens_string=get_list_tokens(string)\n",
    "\n",
    "    for i, word in enumerate(list_vocab):\n",
    "        if word in list_tokens_string:\n",
    "            vector_text[i]=list_tokens_string.count(word)\n",
    "\n",
    "    return vector_text"
   ]
  },
  {
   "cell_type": "code",
   "execution_count": 24,
   "metadata": {},
   "outputs": [],
   "source": [
    "X=[]\n",
    "Y=[]\n",
    "\n",
    "# Y Labels\n",
    "# 0 - Sport\n",
    "# 1 - Business\n",
    "# 2 - Entertainment\n",
    "# 3 - Politics\n",
    "# 4 - Technology\n",
    "\n",
    "for entry in df_sport:\n",
    "    sub_story=get_vector_text(vocabulary,entry[:-1])\n",
    "    var = [sub_story, entry[-1], n_gram_vectorised.transform(entry[:-1])]\n",
    "    X.append(var)\n",
    "    Y.append(0)\n",
    "\n",
    "for entry in df_bus:\n",
    "    sub_story=get_vector_text(vocabulary,entry[:-1])\n",
    "    var = [sub_story, entry[-1], n_gram_vectorised.transform(entry[:-1])]\n",
    "    X.append(var)\n",
    "    Y.append(1)\n",
    "\n",
    "for entry in df_enter:\n",
    "    sub_story=get_vector_text(vocabulary,entry[:-1])\n",
    "    var = [sub_story, entry[-1], n_gram_vectorised.transform(entry[:-1])]\n",
    "    X.append(var)\n",
    "    Y.append(2)\n",
    "\n",
    "for entry in df_pol:\n",
    "    sub_story=get_vector_text(vocabulary,entry[:-1])\n",
    "    var = [sub_story, entry[-1], n_gram_vectorised.transform(entry[:-1])]\n",
    "    X.append(var)\n",
    "    Y.append(3)\n",
    "\n",
    "for entry in df_tech:\n",
    "    sub_story=get_vector_text(vocabulary,entry[:-1])\n",
    "    var = [sub_story, entry[-1], n_gram_vectorised.transform(entry[:-1])]\n",
    "    X.append(var)\n",
    "    Y.append(4)"
   ]
  },
  {
   "cell_type": "code",
   "execution_count": 25,
   "metadata": {},
   "outputs": [],
   "source": [
    "# from sklearn.feature_selection import SelectKBest, chi2\n",
    "# X_new = SelectKBest(chi2, k=500).fit_transform(X,Y)"
   ]
  },
  {
   "cell_type": "code",
   "execution_count": 26,
   "metadata": {},
   "outputs": [],
   "source": [
    "# from sklearn import cluster\n",
    "# agglo = cluster.FeatureAgglomeration(n_clusters=32)\n",
    "# agglo.fit(X)\n",
    "# X_reduced = agglo.transform(X)\n",
    "# X_reduced.shape"
   ]
  },
  {
   "cell_type": "code",
   "execution_count": 27,
   "metadata": {},
   "outputs": [],
   "source": [
    "from sklearn.model_selection import train_test_split\n",
    "X_train, X_test, Y_train, Y_test = train_test_split(X_reduced, Y, test_size=0.2)"
   ]
  },
  {
   "cell_type": "code",
   "execution_count": 28,
   "metadata": {},
   "outputs": [
    {
     "data": {
      "text/plain": [
       "SVC(gamma='auto', kernel='linear')"
      ]
     },
     "execution_count": 28,
     "metadata": {},
     "output_type": "execute_result"
    }
   ],
   "source": [
    "svm_clf_storytype=sklearn.svm.SVC(kernel=\"linear\",gamma='auto')\n",
    "svm_clf_storytype.fit(X_train,Y_train)"
   ]
  },
  {
   "cell_type": "code",
   "execution_count": 29,
   "metadata": {},
   "outputs": [],
   "source": [
    "Y_pred = svm_clf_storytype.predict(X_test)"
   ]
  },
  {
   "cell_type": "code",
   "execution_count": 30,
   "metadata": {
    "scrolled": true
   },
   "outputs": [
    {
     "name": "stdout",
     "output_type": "stream",
     "text": [
      "The accuracy in the test set is: 93.034\n"
     ]
    }
   ],
   "source": [
    "from sklearn.metrics import accuracy_score\n",
    "accuracy_test = accuracy_score(Y_pred,Y_test)\n",
    "print('The accuracy in the test set is: '+str(round(accuracy_test*100,3)))"
   ]
  },
  {
   "cell_type": "code",
   "execution_count": 31,
   "metadata": {},
   "outputs": [
    {
     "name": "stdout",
     "output_type": "stream",
     "text": [
      "              precision    recall  f1-score   support\n",
      "\n",
      "           0       0.97      0.91      0.94        96\n",
      "           1       0.94      0.92      0.93       106\n",
      "           2       0.91      0.96      0.93        73\n",
      "           3       0.93      0.92      0.93        89\n",
      "           4       0.90      0.95      0.92        81\n",
      "\n",
      "    accuracy                           0.93       445\n",
      "   macro avg       0.93      0.93      0.93       445\n",
      "weighted avg       0.93      0.93      0.93       445\n",
      "\n"
     ]
    }
   ],
   "source": [
    "print(sklearn.metrics.classification_report(Y_pred, Y_test))"
   ]
  },
  {
   "cell_type": "code",
   "execution_count": 32,
   "metadata": {},
   "outputs": [
    {
     "name": "stdout",
     "output_type": "stream",
     "text": [
      "[[87  1  3  1  4]\n",
      " [ 0 98  2  3  3]\n",
      " [ 2  1 70  0  0]\n",
      " [ 1  3  1 82  2]\n",
      " [ 0  1  1  2 77]]\n"
     ]
    }
   ],
   "source": [
    "print(sklearn.metrics.confusion_matrix(Y_pred, Y_test))"
   ]
  }
 ],
 "metadata": {
  "kernelspec": {
   "display_name": "Python 3",
   "language": "python",
   "name": "python3"
  },
  "language_info": {
   "codemirror_mode": {
    "name": "ipython",
    "version": 3
   },
   "file_extension": ".py",
   "mimetype": "text/x-python",
   "name": "python",
   "nbconvert_exporter": "python",
   "pygments_lexer": "ipython3",
   "version": "3.8.3"
  }
 },
 "nbformat": 4,
 "nbformat_minor": 4
}
