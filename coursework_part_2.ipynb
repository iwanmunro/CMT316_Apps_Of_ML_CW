{
 "cells": [
  {
   "cell_type": "code",
   "execution_count": 1,
   "metadata": {},
   "outputs": [],
   "source": [
    "import numpy as np\n",
    "import nltk\n",
    "import sklearn\n",
    "import os\n",
    "import operator"
   ]
  },
  {
   "cell_type": "code",
   "execution_count": 2,
   "metadata": {
    "scrolled": true
   },
   "outputs": [
    {
     "name": "stderr",
     "output_type": "stream",
     "text": [
      "[nltk_data] Downloading package averaged_perceptron_tagger to\n",
      "[nltk_data]     C:\\Users\\Iwan_Munro\\AppData\\Roaming\\nltk_data...\n",
      "[nltk_data]   Package averaged_perceptron_tagger is already up-to-\n",
      "[nltk_data]       date!\n",
      "[nltk_data] Downloading package universal_tagset to\n",
      "[nltk_data]     C:\\Users\\Iwan_Munro\\AppData\\Roaming\\nltk_data...\n",
      "[nltk_data]   Package universal_tagset is already up-to-date!\n"
     ]
    },
    {
     "data": {
      "text/plain": [
       "True"
      ]
     },
     "execution_count": 2,
     "metadata": {},
     "output_type": "execute_result"
    }
   ],
   "source": [
    "# nltk packages needed for tagging tokens in verb feature\n",
    "nltk.download('averaged_perceptron_tagger')\n",
    "nltk.download('universal_tagset')"
   ]
  },
  {
   "cell_type": "markdown",
   "metadata": {},
   "source": [
    "# Verb Feature"
   ]
  },
  {
   "cell_type": "code",
   "execution_count": 3,
   "metadata": {},
   "outputs": [],
   "source": [
    "from collections import Counter\n",
    "def count_verbs(file):\n",
    "    text = nltk.tokenize.word_tokenize(file)\n",
    "    # individually tag each word in article\n",
    "    tagged_toks = nltk.pos_tag(text, tagset='universal')\n",
    "    # count each instance of each word type and group\n",
    "    all_counts = Counter(tag for token, tag in tagged_toks)\n",
    "\n",
    "    return all_counts['VERB']"
   ]
  },
  {
   "cell_type": "markdown",
   "metadata": {},
   "source": [
    "# Pre-Processing"
   ]
  },
  {
   "cell_type": "code",
   "execution_count": null,
   "metadata": {},
   "outputs": [],
   "source": [
    "# Y Labels\n",
    "# 0 - Sport\n",
    "# 1 - Business\n",
    "# 2 - Entertainment\n",
    "# 3 - Politics\n",
    "# 4 - Technology\n",
    "\n",
    "# list for all the articles, their verb count and label\n",
    "articles_verbs_label = []\n",
    "\n",
    "# list of subjects in order to iterate through and have one block of code\n",
    "subjects = ['sport', 'business', 'entertainment', 'politics', 'tech']\n",
    "for i in subjects:\n",
    "    # iterate through each article topic directory\n",
    "    for file in os.listdir(\"datasets_coursework1\\\\bbc\\\\\" + i):\n",
    "        # make sure only text files are included\n",
    "        if file.endswith(\".txt\"):\n",
    "            file_path = \"datasets_coursework1\\\\bbc\\\\\" + i + \"\\\\\" + file\n",
    "            f = open(file_path, \"r\")\n",
    "            file = f.read()\n",
    "            # get verb count for article\n",
    "            verbs = count_verbs(file)\n",
    "            arr = [file, verbs]\n",
    "            # based on which article topic is being read, label accordingly\n",
    "            if i == 'sport':\n",
    "                arr.append(0)\n",
    "                articles_verbs_label.append(arr)\n",
    "            elif i == 'business':\n",
    "                arr.append(1)\n",
    "                articles_verbs_label.append(arr)\n",
    "            elif i == 'entertainment':\n",
    "                arr.append(2)\n",
    "                articles_verbs_label.append(arr)\n",
    "            elif i == 'politics':\n",
    "                arr.append(3)\n",
    "                articles_verbs_label.append(arr)\n",
    "            elif i == 'tech':\n",
    "                arr.append(4)\n",
    "                articles_verbs_label.append(arr)\n",
    "        else: continue"
   ]
  },
  {
   "cell_type": "markdown",
   "metadata": {},
   "source": [
    "# Bi-gram Feature"
   ]
  },
  {
   "cell_type": "code",
   "execution_count": null,
   "metadata": {},
   "outputs": [],
   "source": [
    "from sklearn.feature_extraction.text import CountVectorizer\n",
    "# instantiate n-gram vectorizer forcing bi-grams, removing english stop words and capping features at 10,000\n",
    "vectorizer = CountVectorizer(ngram_range=(2, 2), stop_words={'english'}, max_features=10000)\n",
    "# fit vectoriser to only the articles in the list\n",
    "n_gram_vectorised = vectorizer.fit([element[0] for element in articles_verbs_label])"
   ]
  },
  {
   "cell_type": "markdown",
   "metadata": {},
   "source": [
    "# Vectorised Word Count Feature"
   ]
  },
  {
   "cell_type": "code",
   "execution_count": null,
   "metadata": {},
   "outputs": [],
   "source": [
    "# instantiate lemmatizer\n",
    "lemmatizer = nltk.stem.WordNetLemmatizer()\n",
    "\n",
    "def get_list_tokens(article):\n",
    "    list_tokens=[]\n",
    "    # get word tokens from article\n",
    "    list_tokens_sentence=nltk.tokenize.word_tokenize(article)\n",
    "    # take each token, lemmatize and lower\n",
    "    for token in list_tokens_sentence:\n",
    "        list_tokens.append(lemmatizer.lemmatize(token).lower())\n",
    "\n",
    "    return list_tokens"
   ]
  },
  {
   "cell_type": "code",
   "execution_count": null,
   "metadata": {
    "scrolled": true
   },
   "outputs": [],
   "source": [
    "# dictionary for word freqencies\n",
    "dict_word_frequency = {}\n",
    "# start with english stopwords\n",
    "stopwords=nltk.corpus.stopwords.words('english')\n",
    "# add some custom stopwords into the list\n",
    "stopwords.extend([\".\",\",\",\"'\",\"''\",\"``\",\"%\",\"-\",\"(\",\")\",\":\"])\n",
    "\n",
    "# take it article, tokenise and then add to word frequency dictionary\n",
    "for entry in articles_verbs_label:    \n",
    "    for word in get_list_tokens(entry[0]):\n",
    "        if word in stopwords: continue\n",
    "        if word not in dict_word_frequency: dict_word_frequency[word]=1\n",
    "        else: dict_word_frequency[word]+=1\n",
    "\n",
    "# create sorted frequency list with the top 1000 words\n",
    "sorted_list = sorted(dict_word_frequency.items(), key=operator.itemgetter(1), reverse=True)[:1000]\n",
    "  \n",
    "# Create a vocabulary based on the sorted frequency list \n",
    "vocabulary=[]\n",
    "for word,frequency in sorted_list:\n",
    "  vocabulary.append(word)"
   ]
  },
  {
   "cell_type": "code",
   "execution_count": null,
   "metadata": {},
   "outputs": [],
   "source": [
    "def get_vector_text(list_vocab,string):\n",
    "    # create vector to house number of each word in article\n",
    "    vector_text=np.zeros(len(list_vocab))\n",
    "    list_tokens_string=get_list_tokens(string)\n",
    "\n",
    "    # for each word in the vocab see if its in the article\n",
    "    # and count the number of instances to add to vector\n",
    "    for i, word in enumerate(list_vocab):\n",
    "        if word in list_tokens_string:\n",
    "            vector_text[i]=list_tokens_string.count(word)\n",
    "\n",
    "    return vector_text"
   ]
  },
  {
   "cell_type": "markdown",
   "metadata": {},
   "source": [
    "# Instantiate X and Y variables for training"
   ]
  },
  {
   "cell_type": "code",
   "execution_count": null,
   "metadata": {},
   "outputs": [],
   "source": [
    "# X and Y lists to put all features in\n",
    "X=[]\n",
    "Y=[]\n",
    "\n",
    "# for each element of the list vectorise the article, get the bi-gram array of the article and get\n",
    "# the verb count and concatenate them all together and add the label in the Y list in the same place\n",
    "for entry in articles_verbs_label:\n",
    "    sub_story=get_vector_text(vocabulary,entry[0])\n",
    "    var = np.concatenate((n_gram_vectorised.transform([entry[0]]).toarray()[0], np.append(sub_story, entry[-2])))\n",
    "    X.append(var)\n",
    "    Y.append(entry[-1])"
   ]
  },
  {
   "cell_type": "code",
   "execution_count": null,
   "metadata": {},
   "outputs": [],
   "source": [
    "# perrom chi2 tests on features and take best 2500\n",
    "from sklearn.feature_selection import SelectKBest, chi2\n",
    "X_new = SelectKBest(chi2, k=2500).fit_transform(X,Y)"
   ]
  },
  {
   "cell_type": "code",
   "execution_count": null,
   "metadata": {},
   "outputs": [],
   "source": [
    "# used in testing but did not make accuracy any better\n",
    "# from sklearn import cluster\n",
    "# agglo = cluster.FeatureAgglomeration(n_clusters=1000)\n",
    "# agglo.fit(X_new)\n",
    "# X_reduced = agglo.transform(X_new)\n",
    "# X_reduced.shape"
   ]
  },
  {
   "cell_type": "code",
   "execution_count": null,
   "metadata": {},
   "outputs": [],
   "source": [
    "# split X and Y into training, testing and development sets\n",
    "from sklearn.model_selection import train_test_split\n",
    "X_train, X_dev, Y_train, Y_dev = train_test_split(X_new, Y, test_size=0.3, random_state=42)\n",
    "X_dev, X_test, Y_dev, Y_test = train_test_split(X_dev, Y_dev, test_size=0.5, random_state=32)"
   ]
  },
  {
   "cell_type": "markdown",
   "metadata": {},
   "source": [
    "## TRAINING"
   ]
  },
  {
   "cell_type": "code",
   "execution_count": null,
   "metadata": {},
   "outputs": [],
   "source": [
    "# train linear svm in training set!!\n",
    "svm_clf_storytype=sklearn.svm.SVC(kernel=\"linear\",gamma='auto')\n",
    "svm_clf_storytype.fit(X_train,Y_train)"
   ]
  },
  {
   "cell_type": "markdown",
   "metadata": {},
   "source": [
    "## DEVELOPMENT"
   ]
  },
  {
   "cell_type": "code",
   "execution_count": null,
   "metadata": {},
   "outputs": [],
   "source": [
    "# predict development values using model\n",
    "Y_dev_pred = svm_clf_storytype.predict(X_dev)"
   ]
  },
  {
   "cell_type": "code",
   "execution_count": null,
   "metadata": {
    "scrolled": true
   },
   "outputs": [],
   "source": [
    "# compare predicted dev values to known dev values for accuracy score\n",
    "from sklearn.metrics import accuracy_score\n",
    "accuracy_test = accuracy_score(Y_dev_pred,Y_dev)\n",
    "print('The accuracy in the test set is: '+str(round(accuracy_test,3)))"
   ]
  },
  {
   "cell_type": "markdown",
   "metadata": {},
   "source": [
    "## TESTING"
   ]
  },
  {
   "cell_type": "code",
   "execution_count": null,
   "metadata": {},
   "outputs": [],
   "source": [
    "# predict testing values using model\n",
    "Y_pred = svm_clf_storytype.predict(X_test)"
   ]
  },
  {
   "cell_type": "code",
   "execution_count": null,
   "metadata": {
    "scrolled": true
   },
   "outputs": [],
   "source": [
    "# compare predicted test values to known test values for accuracy score\n",
    "from sklearn.metrics import accuracy_score\n",
    "accuracy_test = accuracy_score(Y_pred,Y_test)\n",
    "print('The accuracy in the test set is: '+str(round(accuracy_test,3)))"
   ]
  },
  {
   "cell_type": "code",
   "execution_count": null,
   "metadata": {},
   "outputs": [],
   "source": [
    "# get further evaluation stats for model\n",
    "print(sklearn.metrics.classification_report(Y_pred, Y_test))"
   ]
  },
  {
   "cell_type": "code",
   "execution_count": null,
   "metadata": {},
   "outputs": [],
   "source": [
    "# extra evaluation stat to see where mislabelled values were being labelled as\n",
    "print(sklearn.metrics.confusion_matrix(Y_pred, Y_test))"
   ]
  },
  {
   "cell_type": "code",
   "execution_count": null,
   "metadata": {},
   "outputs": [],
   "source": []
  }
 ],
 "metadata": {
  "kernelspec": {
   "display_name": "Python 3",
   "language": "python",
   "name": "python3"
  },
  "language_info": {
   "codemirror_mode": {
    "name": "ipython",
    "version": 3
   },
   "file_extension": ".py",
   "mimetype": "text/x-python",
   "name": "python",
   "nbconvert_exporter": "python",
   "pygments_lexer": "ipython3",
   "version": "3.8.3"
  }
 },
 "nbformat": 4,
 "nbformat_minor": 4
}
