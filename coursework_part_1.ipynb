{
 "cells": [
  {
   "cell_type": "code",
   "execution_count": 1,
   "metadata": {},
   "outputs": [],
   "source": [
    "import numpy as np\n",
    "from sklearn.preprocessing import StandardScaler\n",
    "from sklearn.linear_model import LinearRegression\n",
    "import sklearn\n",
    "import pandas as pd"
   ]
  },
  {
   "cell_type": "code",
   "execution_count": 2,
   "metadata": {},
   "outputs": [],
   "source": [
    "df = pd.read_csv(\"datasets_coursework1\\\\real-state\\\\train_full_Real-estate.csv\")"
   ]
  },
  {
   "cell_type": "code",
   "execution_count": 3,
   "metadata": {},
   "outputs": [
    {
     "data": {
      "text/html": [
       "<div>\n",
       "<style scoped>\n",
       "    .dataframe tbody tr th:only-of-type {\n",
       "        vertical-align: middle;\n",
       "    }\n",
       "\n",
       "    .dataframe tbody tr th {\n",
       "        vertical-align: top;\n",
       "    }\n",
       "\n",
       "    .dataframe thead th {\n",
       "        text-align: right;\n",
       "    }\n",
       "</style>\n",
       "<table border=\"1\" class=\"dataframe\">\n",
       "  <thead>\n",
       "    <tr style=\"text-align: right;\">\n",
       "      <th></th>\n",
       "      <th>No</th>\n",
       "      <th>X1 transaction date</th>\n",
       "      <th>X2 house age</th>\n",
       "      <th>X3 distance to the nearest MRT station</th>\n",
       "      <th>X4 number of convenience stores</th>\n",
       "      <th>X5 latitude</th>\n",
       "      <th>X6 longitude</th>\n",
       "      <th>Y house price of unit area</th>\n",
       "    </tr>\n",
       "  </thead>\n",
       "  <tbody>\n",
       "    <tr>\n",
       "      <th>count</th>\n",
       "      <td>301.000000</td>\n",
       "      <td>301.000000</td>\n",
       "      <td>301.000000</td>\n",
       "      <td>301.000000</td>\n",
       "      <td>301.000000</td>\n",
       "      <td>301.000000</td>\n",
       "      <td>301.000000</td>\n",
       "      <td>301.000000</td>\n",
       "    </tr>\n",
       "    <tr>\n",
       "      <th>mean</th>\n",
       "      <td>212.774086</td>\n",
       "      <td>2013.148691</td>\n",
       "      <td>17.874419</td>\n",
       "      <td>1097.227770</td>\n",
       "      <td>3.983389</td>\n",
       "      <td>24.968816</td>\n",
       "      <td>121.533177</td>\n",
       "      <td>37.891362</td>\n",
       "    </tr>\n",
       "    <tr>\n",
       "      <th>std</th>\n",
       "      <td>120.102881</td>\n",
       "      <td>0.273876</td>\n",
       "      <td>11.581775</td>\n",
       "      <td>1272.369201</td>\n",
       "      <td>2.974848</td>\n",
       "      <td>0.012099</td>\n",
       "      <td>0.015627</td>\n",
       "      <td>13.995630</td>\n",
       "    </tr>\n",
       "    <tr>\n",
       "      <th>min</th>\n",
       "      <td>1.000000</td>\n",
       "      <td>2012.667000</td>\n",
       "      <td>0.000000</td>\n",
       "      <td>23.382840</td>\n",
       "      <td>0.000000</td>\n",
       "      <td>24.932070</td>\n",
       "      <td>121.473530</td>\n",
       "      <td>11.200000</td>\n",
       "    </tr>\n",
       "    <tr>\n",
       "      <th>25%</th>\n",
       "      <td>109.000000</td>\n",
       "      <td>2012.917000</td>\n",
       "      <td>8.900000</td>\n",
       "      <td>292.997800</td>\n",
       "      <td>1.000000</td>\n",
       "      <td>24.962990</td>\n",
       "      <td>121.527600</td>\n",
       "      <td>27.700000</td>\n",
       "    </tr>\n",
       "    <tr>\n",
       "      <th>50%</th>\n",
       "      <td>215.000000</td>\n",
       "      <td>2013.167000</td>\n",
       "      <td>16.200000</td>\n",
       "      <td>515.112200</td>\n",
       "      <td>4.000000</td>\n",
       "      <td>24.971100</td>\n",
       "      <td>121.538140</td>\n",
       "      <td>37.900000</td>\n",
       "    </tr>\n",
       "    <tr>\n",
       "      <th>75%</th>\n",
       "      <td>315.000000</td>\n",
       "      <td>2013.417000</td>\n",
       "      <td>28.200000</td>\n",
       "      <td>1455.798000</td>\n",
       "      <td>6.000000</td>\n",
       "      <td>24.977440</td>\n",
       "      <td>121.543310</td>\n",
       "      <td>46.000000</td>\n",
       "    </tr>\n",
       "    <tr>\n",
       "      <th>max</th>\n",
       "      <td>414.000000</td>\n",
       "      <td>2013.583000</td>\n",
       "      <td>42.700000</td>\n",
       "      <td>6488.021000</td>\n",
       "      <td>10.000000</td>\n",
       "      <td>25.001150</td>\n",
       "      <td>121.566270</td>\n",
       "      <td>117.500000</td>\n",
       "    </tr>\n",
       "  </tbody>\n",
       "</table>\n",
       "</div>"
      ],
      "text/plain": [
       "               No  X1 transaction date  X2 house age  \\\n",
       "count  301.000000           301.000000    301.000000   \n",
       "mean   212.774086          2013.148691     17.874419   \n",
       "std    120.102881             0.273876     11.581775   \n",
       "min      1.000000          2012.667000      0.000000   \n",
       "25%    109.000000          2012.917000      8.900000   \n",
       "50%    215.000000          2013.167000     16.200000   \n",
       "75%    315.000000          2013.417000     28.200000   \n",
       "max    414.000000          2013.583000     42.700000   \n",
       "\n",
       "       X3 distance to the nearest MRT station  \\\n",
       "count                              301.000000   \n",
       "mean                              1097.227770   \n",
       "std                               1272.369201   \n",
       "min                                 23.382840   \n",
       "25%                                292.997800   \n",
       "50%                                515.112200   \n",
       "75%                               1455.798000   \n",
       "max                               6488.021000   \n",
       "\n",
       "       X4 number of convenience stores  X5 latitude  X6 longitude  \\\n",
       "count                       301.000000   301.000000    301.000000   \n",
       "mean                          3.983389    24.968816    121.533177   \n",
       "std                           2.974848     0.012099      0.015627   \n",
       "min                           0.000000    24.932070    121.473530   \n",
       "25%                           1.000000    24.962990    121.527600   \n",
       "50%                           4.000000    24.971100    121.538140   \n",
       "75%                           6.000000    24.977440    121.543310   \n",
       "max                          10.000000    25.001150    121.566270   \n",
       "\n",
       "       Y house price of unit area  \n",
       "count                  301.000000  \n",
       "mean                    37.891362  \n",
       "std                     13.995630  \n",
       "min                     11.200000  \n",
       "25%                     27.700000  \n",
       "50%                     37.900000  \n",
       "75%                     46.000000  \n",
       "max                    117.500000  "
      ]
     },
     "execution_count": 3,
     "metadata": {},
     "output_type": "execute_result"
    }
   ],
   "source": [
    "df.describe()"
   ]
  },
  {
   "cell_type": "code",
   "execution_count": 4,
   "metadata": {},
   "outputs": [
    {
     "data": {
      "text/plain": [
       "No                                        0\n",
       "X1 transaction date                       0\n",
       "X2 house age                              0\n",
       "X3 distance to the nearest MRT station    0\n",
       "X4 number of convenience stores           0\n",
       "X5 latitude                               0\n",
       "X6 longitude                              0\n",
       "Y house price of unit area                0\n",
       "dtype: int64"
      ]
     },
     "execution_count": 4,
     "metadata": {},
     "output_type": "execute_result"
    }
   ],
   "source": [
    "pd.isna(df).sum()"
   ]
  },
  {
   "cell_type": "code",
   "execution_count": 5,
   "metadata": {},
   "outputs": [
    {
     "data": {
      "text/html": [
       "<div>\n",
       "<style scoped>\n",
       "    .dataframe tbody tr th:only-of-type {\n",
       "        vertical-align: middle;\n",
       "    }\n",
       "\n",
       "    .dataframe tbody tr th {\n",
       "        vertical-align: top;\n",
       "    }\n",
       "\n",
       "    .dataframe thead th {\n",
       "        text-align: right;\n",
       "    }\n",
       "</style>\n",
       "<table border=\"1\" class=\"dataframe\">\n",
       "  <thead>\n",
       "    <tr style=\"text-align: right;\">\n",
       "      <th></th>\n",
       "      <th>No</th>\n",
       "      <th>X1 transaction date</th>\n",
       "      <th>X2 house age</th>\n",
       "      <th>X3 distance to the nearest MRT station</th>\n",
       "      <th>X4 number of convenience stores</th>\n",
       "      <th>X5 latitude</th>\n",
       "      <th>X6 longitude</th>\n",
       "      <th>Y house price of unit area</th>\n",
       "    </tr>\n",
       "  </thead>\n",
       "  <tbody>\n",
       "    <tr>\n",
       "      <th>10</th>\n",
       "      <td>271</td>\n",
       "      <td>2013.333</td>\n",
       "      <td>10.8</td>\n",
       "      <td>252.5822</td>\n",
       "      <td>1</td>\n",
       "      <td>24.97460</td>\n",
       "      <td>121.53046</td>\n",
       "      <td>117.5</td>\n",
       "    </tr>\n",
       "    <tr>\n",
       "      <th>272</th>\n",
       "      <td>221</td>\n",
       "      <td>2013.333</td>\n",
       "      <td>37.2</td>\n",
       "      <td>186.5101</td>\n",
       "      <td>9</td>\n",
       "      <td>24.97703</td>\n",
       "      <td>121.54265</td>\n",
       "      <td>78.3</td>\n",
       "    </tr>\n",
       "    <tr>\n",
       "      <th>122</th>\n",
       "      <td>313</td>\n",
       "      <td>2013.583</td>\n",
       "      <td>35.4</td>\n",
       "      <td>318.5292</td>\n",
       "      <td>9</td>\n",
       "      <td>24.97071</td>\n",
       "      <td>121.54069</td>\n",
       "      <td>78.0</td>\n",
       "    </tr>\n",
       "    <tr>\n",
       "      <th>176</th>\n",
       "      <td>167</td>\n",
       "      <td>2013.417</td>\n",
       "      <td>0.0</td>\n",
       "      <td>292.9978</td>\n",
       "      <td>6</td>\n",
       "      <td>24.97744</td>\n",
       "      <td>121.54458</td>\n",
       "      <td>73.6</td>\n",
       "    </tr>\n",
       "    <tr>\n",
       "      <th>184</th>\n",
       "      <td>106</td>\n",
       "      <td>2012.833</td>\n",
       "      <td>0.0</td>\n",
       "      <td>292.9978</td>\n",
       "      <td>6</td>\n",
       "      <td>24.97744</td>\n",
       "      <td>121.54458</td>\n",
       "      <td>71.0</td>\n",
       "    </tr>\n",
       "  </tbody>\n",
       "</table>\n",
       "</div>"
      ],
      "text/plain": [
       "      No  X1 transaction date  X2 house age  \\\n",
       "10   271             2013.333          10.8   \n",
       "272  221             2013.333          37.2   \n",
       "122  313             2013.583          35.4   \n",
       "176  167             2013.417           0.0   \n",
       "184  106             2012.833           0.0   \n",
       "\n",
       "     X3 distance to the nearest MRT station  X4 number of convenience stores  \\\n",
       "10                                 252.5822                                1   \n",
       "272                                186.5101                                9   \n",
       "122                                318.5292                                9   \n",
       "176                                292.9978                                6   \n",
       "184                                292.9978                                6   \n",
       "\n",
       "     X5 latitude  X6 longitude  Y house price of unit area  \n",
       "10      24.97460     121.53046                       117.5  \n",
       "272     24.97703     121.54265                        78.3  \n",
       "122     24.97071     121.54069                        78.0  \n",
       "176     24.97744     121.54458                        73.6  \n",
       "184     24.97744     121.54458                        71.0  "
      ]
     },
     "execution_count": 5,
     "metadata": {},
     "output_type": "execute_result"
    }
   ],
   "source": [
    "df.sort_values(\"Y house price of unit area\", ascending=False).head()"
   ]
  },
  {
   "cell_type": "code",
   "execution_count": 6,
   "metadata": {
    "scrolled": true
   },
   "outputs": [
    {
     "data": {
      "text/html": [
       "<div>\n",
       "<style scoped>\n",
       "    .dataframe tbody tr th:only-of-type {\n",
       "        vertical-align: middle;\n",
       "    }\n",
       "\n",
       "    .dataframe tbody tr th {\n",
       "        vertical-align: top;\n",
       "    }\n",
       "\n",
       "    .dataframe thead th {\n",
       "        text-align: right;\n",
       "    }\n",
       "</style>\n",
       "<table border=\"1\" class=\"dataframe\">\n",
       "  <thead>\n",
       "    <tr style=\"text-align: right;\">\n",
       "      <th></th>\n",
       "      <th>No</th>\n",
       "      <th>X1 transaction date</th>\n",
       "      <th>X2 house age</th>\n",
       "      <th>X3 distance to the nearest MRT station</th>\n",
       "      <th>X4 number of convenience stores</th>\n",
       "      <th>X5 latitude</th>\n",
       "      <th>X6 longitude</th>\n",
       "      <th>Y house price of unit area</th>\n",
       "    </tr>\n",
       "  </thead>\n",
       "  <tbody>\n",
       "    <tr>\n",
       "      <th>171</th>\n",
       "      <td>227</td>\n",
       "      <td>2013.000</td>\n",
       "      <td>16.5</td>\n",
       "      <td>4082.015</td>\n",
       "      <td>0</td>\n",
       "      <td>24.94155</td>\n",
       "      <td>121.50381</td>\n",
       "      <td>12.8</td>\n",
       "    </tr>\n",
       "    <tr>\n",
       "      <th>119</th>\n",
       "      <td>331</td>\n",
       "      <td>2013.083</td>\n",
       "      <td>32.0</td>\n",
       "      <td>1156.777</td>\n",
       "      <td>0</td>\n",
       "      <td>24.94935</td>\n",
       "      <td>121.53046</td>\n",
       "      <td>12.8</td>\n",
       "    </tr>\n",
       "    <tr>\n",
       "      <th>131</th>\n",
       "      <td>117</td>\n",
       "      <td>2013.000</td>\n",
       "      <td>30.9</td>\n",
       "      <td>6396.283</td>\n",
       "      <td>1</td>\n",
       "      <td>24.94375</td>\n",
       "      <td>121.47883</td>\n",
       "      <td>12.2</td>\n",
       "    </tr>\n",
       "    <tr>\n",
       "      <th>162</th>\n",
       "      <td>163</td>\n",
       "      <td>2012.750</td>\n",
       "      <td>16.0</td>\n",
       "      <td>4066.587</td>\n",
       "      <td>0</td>\n",
       "      <td>24.94297</td>\n",
       "      <td>121.50342</td>\n",
       "      <td>11.6</td>\n",
       "    </tr>\n",
       "    <tr>\n",
       "      <th>7</th>\n",
       "      <td>348</td>\n",
       "      <td>2013.583</td>\n",
       "      <td>17.4</td>\n",
       "      <td>6488.021</td>\n",
       "      <td>1</td>\n",
       "      <td>24.95719</td>\n",
       "      <td>121.47353</td>\n",
       "      <td>11.2</td>\n",
       "    </tr>\n",
       "  </tbody>\n",
       "</table>\n",
       "</div>"
      ],
      "text/plain": [
       "      No  X1 transaction date  X2 house age  \\\n",
       "171  227             2013.000          16.5   \n",
       "119  331             2013.083          32.0   \n",
       "131  117             2013.000          30.9   \n",
       "162  163             2012.750          16.0   \n",
       "7    348             2013.583          17.4   \n",
       "\n",
       "     X3 distance to the nearest MRT station  X4 number of convenience stores  \\\n",
       "171                                4082.015                                0   \n",
       "119                                1156.777                                0   \n",
       "131                                6396.283                                1   \n",
       "162                                4066.587                                0   \n",
       "7                                  6488.021                                1   \n",
       "\n",
       "     X5 latitude  X6 longitude  Y house price of unit area  \n",
       "171     24.94155     121.50381                        12.8  \n",
       "119     24.94935     121.53046                        12.8  \n",
       "131     24.94375     121.47883                        12.2  \n",
       "162     24.94297     121.50342                        11.6  \n",
       "7       24.95719     121.47353                        11.2  "
      ]
     },
     "execution_count": 6,
     "metadata": {},
     "output_type": "execute_result"
    }
   ],
   "source": [
    "df.sort_values(\"Y house price of unit area\", ascending=False).tail()"
   ]
  },
  {
   "cell_type": "code",
   "execution_count": 7,
   "metadata": {},
   "outputs": [],
   "source": [
    "X1 = df.iloc[:, [1,2,3,4,5,6]]\n",
    "Y1 = df.iloc[:, 7]"
   ]
  },
  {
   "cell_type": "code",
   "execution_count": 8,
   "metadata": {
    "scrolled": true
   },
   "outputs": [],
   "source": [
    "scaler = StandardScaler()\n",
    "scaler.fit(X1)\n",
    "X1_stand = scaler.transform(X1)"
   ]
  },
  {
   "cell_type": "code",
   "execution_count": 9,
   "metadata": {
    "scrolled": true
   },
   "outputs": [
    {
     "data": {
      "text/plain": [
       "(37.891362126245504,\n",
       " array([ 1.4025923 , -3.36680155, -6.03091446,  3.58742909,  2.75147145,\n",
       "        -0.48917229]))"
      ]
     },
     "execution_count": 9,
     "metadata": {},
     "output_type": "execute_result"
    }
   ],
   "source": [
    "# regression model\n",
    "lin_reg = LinearRegression()\n",
    "lin_reg.fit(X1_stand, Y1)\n",
    "lin_reg.intercept_, lin_reg.coef_"
   ]
  },
  {
   "cell_type": "code",
   "execution_count": 10,
   "metadata": {},
   "outputs": [],
   "source": [
    "df1 = pd.read_csv(\"datasets_coursework1\\\\real-state\\\\test_full_Real-estate.csv\")"
   ]
  },
  {
   "cell_type": "code",
   "execution_count": 11,
   "metadata": {},
   "outputs": [],
   "source": [
    "X_1 = df1.iloc[:, [1,2,3,4,5,6]]\n",
    "Y_1 = df1.iloc[:, 7]"
   ]
  },
  {
   "cell_type": "code",
   "execution_count": 12,
   "metadata": {},
   "outputs": [],
   "source": [
    "X_1_stand = scaler.transform(X_1)\n",
    "predicted_Y = lin_reg.predict(X_1_stand)"
   ]
  },
  {
   "cell_type": "code",
   "execution_count": 13,
   "metadata": {},
   "outputs": [
    {
     "data": {
      "text/plain": [
       "8.501078429154811"
      ]
     },
     "execution_count": 13,
     "metadata": {},
     "output_type": "execute_result"
    }
   ],
   "source": [
    "rmse = sklearn.metrics.mean_squared_error(predicted_Y, Y_1)\n",
    "np.sqrt(rmse)"
   ]
  },
  {
   "cell_type": "markdown",
   "metadata": {},
   "source": [
    "**Classification**"
   ]
  },
  {
   "cell_type": "code",
   "execution_count": 14,
   "metadata": {},
   "outputs": [],
   "source": [
    "df['expensive'] = df['Y house price of unit area'].apply(lambda x: True if x >= 30 else False)\n",
    "df1['expensive'] = df1['Y house price of unit area'].apply(lambda x: True if x >= 30 else False)"
   ]
  },
  {
   "cell_type": "code",
   "execution_count": 15,
   "metadata": {},
   "outputs": [],
   "source": [
    "X2 = df.iloc[:, [2,3,4,5,6]]\n",
    "Y2 = df.iloc[:, 8]"
   ]
  },
  {
   "cell_type": "code",
   "execution_count": 16,
   "metadata": {},
   "outputs": [
    {
     "data": {
      "text/plain": [
       "SVC(gamma='auto', kernel='linear')"
      ]
     },
     "execution_count": 16,
     "metadata": {},
     "output_type": "execute_result"
    }
   ],
   "source": [
    "svm_house_expensive=sklearn.svm.SVC(kernel=\"linear\",gamma='auto') # Initialize the SVM model\n",
    "svm_house_expensive.fit(X2,Y2) # Train the SVM model"
   ]
  },
  {
   "cell_type": "code",
   "execution_count": 17,
   "metadata": {},
   "outputs": [
    {
     "name": "stdout",
     "output_type": "stream",
     "text": [
      "              precision    recall  f1-score   support\n",
      "\n",
      "       False       0.84      0.89      0.86        93\n",
      "        True       0.95      0.92      0.94       208\n",
      "\n",
      "    accuracy                           0.91       301\n",
      "   macro avg       0.89      0.91      0.90       301\n",
      "weighted avg       0.92      0.91      0.91       301\n",
      "\n"
     ]
    }
   ],
   "source": [
    "Y_predict = svm_house_expensive.predict(X2)\n",
    "print(sklearn.metrics.classification_report(Y2, Y_predict))"
   ]
  },
  {
   "cell_type": "code",
   "execution_count": 18,
   "metadata": {},
   "outputs": [
    {
     "name": "stdout",
     "output_type": "stream",
     "text": [
      "[[ 83  10]\n",
      " [ 16 192]]\n"
     ]
    }
   ],
   "source": [
    "print(sklearn.metrics.confusion_matrix(Y2, Y_predict))"
   ]
  },
  {
   "cell_type": "code",
   "execution_count": null,
   "metadata": {},
   "outputs": [],
   "source": []
  }
 ],
 "metadata": {
  "kernelspec": {
   "display_name": "Python 3",
   "language": "python",
   "name": "python3"
  },
  "language_info": {
   "codemirror_mode": {
    "name": "ipython",
    "version": 3
   },
   "file_extension": ".py",
   "mimetype": "text/x-python",
   "name": "python",
   "nbconvert_exporter": "python",
   "pygments_lexer": "ipython3",
   "version": "3.8.3"
  }
 },
 "nbformat": 4,
 "nbformat_minor": 4
}
